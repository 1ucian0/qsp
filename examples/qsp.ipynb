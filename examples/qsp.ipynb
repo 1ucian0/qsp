{
 "cells": [
  {
   "cell_type": "markdown",
   "metadata": {},
   "source": [
    "<h2 align=\"center\">\n",
    "\tUnitary Preparation of Tensor Network States\n",
    "</h2>"
   ]
  },
  {
   "cell_type": "code",
   "execution_count": 23,
   "metadata": {},
   "outputs": [],
   "source": [
    "from matplotlib import pyplot as plt\n",
    "import numpy as np\n",
    "import pickle as pkl\n",
    "\n",
    "import sys\n",
    "from os.path import dirname, abspath\n",
    "sys.path.append('/home/mohsin/Documents/gh/gh_qsp/scr')\n",
    "\n",
    "import quimb.tensor as qtn\n",
    "\n",
    "from tsp_misc_tns import make_aklt_mps, make_splitted_mps\n",
    "from tsp_misc_tns import make_aklt_peps\n",
    "\n",
    "from tsp import MPSPreparation, PEPSPreparation"
   ]
  },
  {
   "cell_type": "markdown",
   "metadata": {},
   "source": [
    "Given the requirements load/construct MPS of certiain size."
   ]
  },
  {
   "cell_type": "code",
   "execution_count": 15,
   "metadata": {},
   "outputs": [],
   "source": [
    "mps_type = 'aklt'#'heisenberg'#'heisenberg'#'random'#\n",
    "\n",
    "if mps_type == 'aklt':\n",
    "    tens, bond = make_aklt_mps(L=8)\n",
    "    tens = make_splitted_mps(tens)\n",
    "    target_mps = qtn.MatrixProductState(tens, shape='lrp')\n",
    "    target_mps.normalize()\n",
    "    \n",
    "    \n",
    "if mps_type == 'random':\n",
    "    target_mps = qtn.MPS_rand_state(L=12, bond_dim=4)\n",
    "    target_mps.permute_arrays(shape='lrp')\n",
    "    \n",
    "    \n",
    "if mps_type in ['P4','N2','heisenberg']:\n",
    "    filenames = {'P4': 'data/P4_6-31G_dist2.0000.pkl', \n",
    "                'N2': 'data/N2_STO-6G_dist2.0000.pkl',\n",
    "                'heisenberg':'data/heisenberg_L32_dist0.8000.pkl'}\n",
    "    \n",
    "    with open(filenames[mps_type], 'rb') as f:\n",
    "        data = pkl.load(f)\n",
    "    \n",
    "    target_mps = data['quimb_mps']\n",
    "    target_mps.permute_arrays(shape='lpr')\n",
    "\n"
   ]
  },
  {
   "cell_type": "markdown",
   "metadata": {},
   "source": [
    "<h2 align=\"center\">\n",
    "\tMatrix Product States\n",
    "</h2>\n",
    "<h3 align=\"left\">\n",
    "\t1. Sequential preparation\n",
    "</h3>\n",
    "\n",
    "\n",
    "$$\n",
    "| \\psi[A] \\rangle \\approx  (U_0. U_1. … U_D) |00...0\\rangle\n",
    "$$\n",
    "\n",
    "\n",
    "where $D$ is the number of layers of unitaries $U_i$ (see [[1]], [[2]]).\n",
    " \n",
    "\n",
    "[1]: https://arxiv.org/pdf/2209.07106.pdf\n",
    "[2]: https://journals.aps.org/pra/abstract/10.1103/PhysRevA.101.032310"
   ]
  },
  {
   "cell_type": "code",
   "execution_count": 16,
   "metadata": {},
   "outputs": [
    {
     "name": "stderr",
     "output_type": "stream",
     "text": [
      "100%|██████████| 6/6 [00:02<00:00,  2.41it/s]\n"
     ]
    },
    {
     "name": "stdout",
     "output_type": "stream",
     "text": [
      "overlap to target mps from constructed circuit = 0.8495559280824876\n",
      "overlap from static seq. preparation = 0.84955585, n_gates=652, n_2qg=212\n"
     ]
    }
   ],
   "source": [
    "prep = MPSPreparation(target_mps)\n",
    "number_of_layers = 6\n",
    "prep.seq_preparation(number_of_layers, do_compression=False)"
   ]
  },
  {
   "cell_type": "markdown",
   "metadata": {},
   "source": [
    "<h3 align=\"left\">\n",
    "\t2. Variational optimization over sequentially prepared unitaries\n",
    "</h3>"
   ]
  },
  {
   "cell_type": "code",
   "execution_count": 18,
   "metadata": {},
   "outputs": [
    {
     "name": "stderr",
     "output_type": "stream",
     "text": [
      "100%|██████████| 3/3 [00:00<00:00,  6.78it/s]\n"
     ]
    },
    {
     "name": "stdout",
     "output_type": "stream",
     "text": [
      "overlap to target mps from constructed circuit = 0.8107108043958117\n",
      "overlap from static seq. preparation = 0.81071080, n_gates=331, n_2qg=105\n",
      "\n",
      "now doing variational optimization over gates\n"
     ]
    },
    {
     "name": "stderr",
     "output_type": "stream",
     "text": [
      "-0.889703869820 [best: -0.997903645039] : : 224it [15:36,  4.18s/it]                       \n"
     ]
    },
    {
     "name": "stdout",
     "output_type": "stream",
     "text": [
      "\n",
      "overlap to target mps from constructed circuit =  0.9979049491369049\n",
      "overllap after variational optimization = 0.99790365,  n_gates=331, n_2qg=105\n"
     ]
    }
   ],
   "source": [
    "prep = MPSPreparation(target_mps)\n",
    "number_of_layers = 3\n",
    "n_iter, nhop = 40, 4\n",
    "prep.variational_seq_preparation(number_of_layers, do_compression=False, n_iter=n_iter, nhop=nhop, verbose=False)"
   ]
  },
  {
   "cell_type": "markdown",
   "metadata": {},
   "source": [
    "<h3 align=\"left\">\n",
    "\t3. Quantum Circuit Tensor Network Ansatz\n",
    "</h3>"
   ]
  },
  {
   "cell_type": "code",
   "execution_count": 19,
   "metadata": {},
   "outputs": [
    {
     "name": "stdout",
     "output_type": "stream",
     "text": [
      "number of gates in the circuit (from QCTN) are 264\n",
      "overlap before optimization = -0.0007750548\n",
      "\n"
     ]
    },
    {
     "name": "stderr",
     "output_type": "stream",
     "text": [
      "-0.989840328693 [best: -0.989840328693] : : 224it [08:09,  2.19s/it]                       \n"
     ]
    },
    {
     "name": "stdout",
     "output_type": "stream",
     "text": [
      "\n",
      "overlap to target mps from constructed circuit =  0.9898419505275045\n",
      "overllap after qctn optimization = 0.98984033,  n_gates=264, n_2qg=120\n"
     ]
    }
   ],
   "source": [
    "prep = MPSPreparation(target_mps)\n",
    "depth = 8\n",
    "n_iter, nhop = 40, 4,\n",
    "prep.qctn_preparation(depth, n_iter=n_iter, nhop=nhop)"
   ]
  },
  {
   "cell_type": "markdown",
   "metadata": {},
   "source": [
    "<h3 align=\"left\">\n",
    "\t4. Preparation using Linear Combinition of unitaries (LCU)\n",
    "</h3>\n",
    "\n",
    "\\begin{aligned}\n",
    "\t|\\psi[A] \\rangle = \\left( U_0 + \\kappa_1U_1 + \\kappa_2U_2 + \\dots\\right)|00\\dots0\\rangle,\n",
    "\\end{aligned}\n",
    "\n",
    "see [[1]] for details\n",
    "\n",
    "[1]: https://arxiv.org/pdf/2209.07106.pdf\n"
   ]
  },
  {
   "cell_type": "code",
   "execution_count": 21,
   "metadata": {},
   "outputs": [
    {
     "name": "stderr",
     "output_type": "stream",
     "text": [
      "  0%|          | 0/4 [00:00<?, ?it/s]"
     ]
    },
    {
     "name": "stderr",
     "output_type": "stream",
     "text": [
      "100%|██████████| 4/4 [00:00<00:00,  4.12it/s]\n"
     ]
    },
    {
     "name": "stdout",
     "output_type": "stream",
     "text": [
      "[0.6157178138433612, (0.7803575271199081+0j)]\n",
      "overllap after lcu. preparation = 0.78035753,  n_gates=3968, n_2qg=1648\n"
     ]
    }
   ],
   "source": [
    "prep = MPSPreparation(target_mps)\n",
    "number_of_lcu_layers = 4\n",
    "prep.lcu_preparation(number_of_lcu_layers, verbose=False)"
   ]
  },
  {
   "cell_type": "markdown",
   "metadata": {},
   "source": [
    "<h3 align=\"left\">\n",
    "\t5. Variational optimization over LCU preparation\n",
    "</h3>"
   ]
  },
  {
   "cell_type": "code",
   "execution_count": 22,
   "metadata": {},
   "outputs": [
    {
     "name": "stderr",
     "output_type": "stream",
     "text": [
      "100%|██████████| 4/4 [00:00<00:00,  4.53it/s]\n"
     ]
    },
    {
     "name": "stdout",
     "output_type": "stream",
     "text": [
      "[0.6157178138433612, (0.7803575237752861+0j)]\n",
      "overllap after lcu. preparation = 0.78035752,  n_gates=3922, n_2qg=1628\n",
      "Optimizing...\n",
      "Iteration    Cost                       Gradient norm     \n",
      "---------    -----------------------    --------------    \n",
      "   1         -7.8035752377528611e-01    7.48425743e-02    \n",
      "   2         -8.0203686458021373e-01    2.76781130e-02    \n",
      "   3         -8.0611924744535579e-01    1.95864847e-02    \n",
      "   4         -8.0967326863850697e-01    2.00921043e-02    \n",
      "   5         -8.1235452858124102e-01    1.20819883e-02    \n",
      "   6         -8.1424130156757857e-01    9.70159063e-03    \n",
      "   7         -8.1563733575767272e-01    1.69066411e-02    \n",
      "   8         -8.1686738268668357e-01    8.73323872e-03    \n",
      "   9         -8.1717563834027451e-01    5.42850842e-03    \n",
      "  10         -8.1735992559129578e-01    4.11569594e-03    \n",
      "  11         -8.1754155088189562e-01    3.88079238e-03    \n",
      "  12         -8.1774528934261326e-01    4.01725951e-03    \n",
      "  13         -8.1785830737340515e-01    2.39610266e-03    \n",
      "  14         -8.1790125908322053e-01    1.87406238e-03    \n",
      "  15         -8.1795090059761133e-01    1.81479348e-03    \n",
      "  16         -8.1805557761220227e-01    3.68398164e-03    \n",
      "  17         -8.1825781661409347e-01    3.44359905e-03    \n",
      "  18         -8.1881923732126072e-01    7.46028346e-03    \n",
      "  19         -8.1917120350864037e-01    1.38246514e-02    \n",
      "  20         -8.1926268432203075e-01    1.37951663e-02    \n",
      "  21         -8.1941245446942623e-01    1.23045634e-02    \n",
      "  22         -8.1964325427188700e-01    1.04902136e-02    \n",
      "  23         -8.1998159106166091e-01    9.41465538e-03    \n",
      "  24         -8.2056178761308640e-01    9.29240126e-03    \n",
      "  25         -8.2215786162655136e-01    1.02472171e-02    \n",
      "  26         -8.2503614856336238e-01    1.22285616e-02    \n",
      "  27         -8.2781584429583766e-01    2.38429304e-02    \n",
      "  28         -8.3389925442541002e-01    3.66341412e-02    \n",
      "  29         -8.3674143797580958e-01    2.73240446e-02    \n",
      "  30         -8.3975537473276496e-01    1.52950064e-02    \n",
      "  31         -8.4089302034158364e-01    1.21127355e-02    \n",
      "  32         -8.4193795748684652e-01    9.57317333e-03    \n",
      "  33         -8.4314348832658548e-01    9.90094760e-03    \n",
      "  34         -8.4625841620813735e-01    2.00083569e-02    \n",
      "  35         -8.4827498341637797e-01    1.53710185e-02    \n",
      "  36         -8.5029633353231604e-01    1.73017751e-02    \n",
      "  37         -8.5199386555201129e-01    1.20592980e-02    \n",
      "  38         -8.5327835868902313e-01    1.36520197e-02    \n",
      "  39         -8.5499797282171197e-01    1.54956161e-02    \n",
      "  40         -8.5783129760688059e-01    1.45000898e-02    \n",
      "  41         -8.5924059287606669e-01    9.65649389e-03    \n",
      "  42         -8.6016727784675606e-01    1.03552287e-02    \n",
      "  43         -8.6124822294056447e-01    1.12012734e-02    \n",
      "Terminated - max time reached after 43 iterations.\n",
      "\n",
      "overllap after lcu optimization (manopt) = 0.86124822\n",
      "\n"
     ]
    }
   ],
   "source": [
    "prep = MPSPreparation(target_mps)\n",
    "number_of_lcu_layers = 4\n",
    "prep.variational_lcu_preparation(number_of_lcu_layers, verbose=True)"
   ]
  },
  {
   "cell_type": "markdown",
   "metadata": {},
   "source": [
    "<h3 align=\"left\">\n",
    "\t6. Adiabatic state Preparation of MPS\n",
    "</h3>"
   ]
  },
  {
   "cell_type": "code",
   "execution_count": 13,
   "metadata": {},
   "outputs": [
    {
     "name": "stdout",
     "output_type": "stream",
     "text": [
      "adiabatic state preparation of mps:\n",
      "runtime=6, tau=0.04, steps=150, max_bond=2\n",
      "\n"
     ]
    },
    {
     "name": "stderr",
     "output_type": "stream",
     "text": [
      "100%|██████████| 151/151 [00:49<00:00,  3.03it/s]"
     ]
    },
    {
     "name": "stdout",
     "output_type": "stream",
     "text": [
      "final overlap @ s=1.00000 is e=0.00322278, curr_f=0.99799178, and target_fid=0.99799178\n",
      "\n"
     ]
    },
    {
     "name": "stderr",
     "output_type": "stream",
     "text": [
      "\n"
     ]
    },
    {
     "data": {
      "text/plain": [
       "[<matplotlib.lines.Line2D at 0x7f12c0117010>]"
      ]
     },
     "execution_count": 13,
     "metadata": {},
     "output_type": "execute_result"
    },
    {
     "data": {
      "image/png": "[encoded data removed]",
      "text/plain": [
       "<Figure size 640x480 with 1 Axes>"
      ]
     },
     "metadata": {},
     "output_type": "display_data"
    }
   ],
   "source": [
    "L = 8\n",
    "tensor_array, _ = make_aklt_mps(L)\n",
    "target_mps = qtn.MatrixProductState(tensor_array, shape='lrp')\n",
    "prep = MPSPreparation(target_mps)\n",
    "\n",
    "Tmax, tau = 6, 0.04 #total runtime, trotter step size\n",
    "max_bond = 2\n",
    "prep.adiabatic_state_preparation(Tmax, tau, max_bond, verbose=False)\n",
    "\n",
    "plt.plot(prep.adiabatic_data['target_fidelity'].keys(), prep.adiabatic_data['target_fidelity'].values(), '.-')"
   ]
  },
  {
   "cell_type": "markdown",
   "metadata": {},
   "source": [
    "<h2 align=\"center\">\n",
    "\tPEPS (2D)\n",
    "</h2>\n",
    "<h3 align=\"left\">\n",
    "\t1. Adiabatic state Preparation\n",
    "</h3>"
   ]
  },
  {
   "cell_type": "code",
   "execution_count": 12,
   "metadata": {},
   "outputs": [
    {
     "name": "stderr",
     "output_type": "stream",
     "text": [
      "100%|██████████| 251/251 [2:02:07<00:00, 29.19s/it]  "
     ]
    },
    {
     "name": "stdout",
     "output_type": "stream",
     "text": [
      "\n",
      "2d adiabatic preparation: @ s=1.00000, e=0.00507427 and f=0.99095693\n",
      "\n"
     ]
    },
    {
     "name": "stderr",
     "output_type": "stream",
     "text": [
      "\n"
     ]
    },
    {
     "data": {
      "text/plain": [
       "[<matplotlib.lines.Line2D at 0x7f129c2708e0>]"
      ]
     },
     "execution_count": 12,
     "metadata": {},
     "output_type": "execute_result"
    },
    {
     "data": {
      "image/png": "[encoded data removed]",
      "text/plain": [
       "<Figure size 640x480 with 1 Axes>"
      ]
     },
     "metadata": {},
     "output_type": "display_data"
    }
   ],
   "source": [
    "Lx, Ly = 10, 4\n",
    "target_grid, _ = make_aklt_peps(Lx, Ly)\n",
    "prep = PEPSPreparation(target_grid)\n",
    "\n",
    "Tmax, tau = 10, 0.04\n",
    "max_bond = 2\n",
    "prep.adiabatic_state_preparation(Tmax, tau, max_bond, verbose=False)\n",
    "\n",
    "plt.plot(prep.adiabatic_data['target_fidelity'].keys(), prep.adiabatic_data['target_fidelity'].values(), '.-')\n"
   ]
  },
  {
   "cell_type": "code",
   "execution_count": null,
   "metadata": {},
   "outputs": [],
   "source": []
  }
 ],
 "metadata": {
  "kernelspec": {
   "display_name": "spy",
   "language": "python",
   "name": "python3"
  },
  "language_info": {
   "codemirror_mode": {
    "name": "ipython",
    "version": 3
   },
   "file_extension": ".py",
   "mimetype": "text/x-python",
   "name": "python",
   "nbconvert_exporter": "python",
   "pygments_lexer": "ipython3",
   "version": "3.10.9"
  },
  "orig_nbformat": 4
 },
 "nbformat": 4,
 "nbformat_minor": 2
}
