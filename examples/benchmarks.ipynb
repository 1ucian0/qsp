{
 "cells": [
  {
   "cell_type": "code",
   "execution_count": 1,
   "metadata": {},
   "outputs": [],
   "source": [
    "from matplotlib import pyplot as plt\n",
    "import numpy as np\n",
    "import pickle as pkl\n",
    "\n",
    "import quimb.tensor as qtn\n",
    "\n",
    "from qsp.misc_states import make_aklt_mps\n",
    "from qsp.tsp import MPSPreparation\n",
    "from qsp.tsp_helper_routines import make_splitted_mps"
   ]
  },
  {
   "cell_type": "code",
   "execution_count": 2,
   "metadata": {},
   "outputs": [],
   "source": [
    "def get_target_mps(mps_type):\n",
    "\n",
    "    if mps_type == \"aklt\":\n",
    "        tensor_array, _ = make_aklt_mps(L=12)\n",
    "        tensor_array = make_splitted_mps(tensor_array)\n",
    "        target_mps = qtn.MatrixProductState(tensor_array, shape=\"lrp\")\n",
    "\n",
    "    if mps_type == \"random\":\n",
    "        target_mps = qtn.MPS_rand_state(L=12, bond_dim=4)\n",
    "        target_mps.permute_arrays(shape=\"lrp\")\n",
    "\n",
    "    if mps_type in [\"P4\", \"N2\", \"heisenberg\"]:\n",
    "        filenames = {\n",
    "            \"P4\": \"data/P4_6-31G_dist2.0000.pkl\",\n",
    "            \"N2\": \"data/N2_STO-6G_dist2.0000.pkl\",\n",
    "            \"heisenberg\": \"data/heisenberg_L32_dist0.8000.pkl\",\n",
    "        }\n",
    "        with open(filenames[mps_type], \"rb\") as f:\n",
    "            data = pkl.load(f)\n",
    "        target_mps = data[\"quimb_mps\"]\n",
    "\n",
    "    return target_mps"
   ]
  },
  {
   "cell_type": "code",
   "execution_count": 3,
   "metadata": {},
   "outputs": [
    {
     "name": "stdout",
     "output_type": "stream",
     "text": [
      "preparing aklt state\n",
      "preparing mps using sequential unitaries (num_seq_layers=2)...\n"
     ]
    },
    {
     "name": "stderr",
     "output_type": "stream",
     "text": [
      "100%|██████████| 2/2 [00:00<00:00,  5.47it/s]\n"
     ]
    },
    {
     "name": "stdout",
     "output_type": "stream",
     "text": [
      "overlap from static seq. preparation = 0.65927363,\n",
      "n_gates=354, n_2qg=110\n",
      "\n",
      "doing variational optimization over sequential unitaries (num_var_seq_layers=2)...\n"
     ]
    },
    {
     "name": "stderr",
     "output_type": "stream",
     "text": [
      "100%|██████████| 2/2 [00:00<00:00,  5.68it/s]\n"
     ]
    },
    {
     "name": "stdout",
     "output_type": "stream",
     "text": [
      "number of variational params in the circuit (from sequential algorithm) are 933\n",
      "overlap before variational optimization = -0.6527098417\n"
     ]
    },
    {
     "name": "stderr",
     "output_type": "stream",
     "text": [
      "-0.092523142695 [best: -0.801904141903] : : 15it [01:40,  6.69s/it]                    \n"
     ]
    },
    {
     "name": "stdout",
     "output_type": "stream",
     "text": [
      "overllap after variational optimization = 0.80190414,\n",
      "n_gates=351, n_2qg=109\n",
      "\n",
      "doing variational optimization over sequential unitaries (num_var_seq_layers=3)...\n"
     ]
    },
    {
     "name": "stderr",
     "output_type": "stream",
     "text": [
      "100%|██████████| 3/3 [00:00<00:00,  5.02it/s]\n"
     ]
    },
    {
     "name": "stdout",
     "output_type": "stream",
     "text": [
      "number of variational params in the circuit (from sequential algorithm) are 1458\n",
      "overlap before variational optimization = -0.7209264040\n"
     ]
    },
    {
     "name": "stderr",
     "output_type": "stream",
     "text": [
      "-0.009000851773 [best: -0.830143511295] : : 14it [01:32,  6.64s/it]                    \n"
     ]
    },
    {
     "name": "stdout",
     "output_type": "stream",
     "text": [
      "overllap after variational optimization = 0.83014351,\n",
      "n_gates=546, n_2qg=174\n",
      "\n",
      "preparing mps using quantum circuit tensor network ansatz (qctn_depth=2)...\n",
      "number of variational params in the circuit (from QCTN) are 354\n",
      "overlap before variational optimization = -0.0000067075\n"
     ]
    },
    {
     "name": "stderr",
     "output_type": "stream",
     "text": [
      "-0.016480600461 [best: -0.016480600461] : : 20it [00:22,  1.14s/it]                    \n"
     ]
    },
    {
     "name": "stdout",
     "output_type": "stream",
     "text": [
      "overllap after qctn optimization =0.01648060,\n",
      "n_gates=118, n_2qg=46\n",
      "\n",
      "preparing mps using quantum circuit tensor network ansatz (qctn_depth=3)...\n",
      "number of variational params in the circuit (from QCTN) are 495\n",
      "overlap before variational optimization = -0.0000047010\n"
     ]
    },
    {
     "name": "stderr",
     "output_type": "stream",
     "text": [
      "-0.012861203402 [best: -0.012861203402] : : 17it [00:27,  1.63s/it]                    \n"
     ]
    },
    {
     "name": "stdout",
     "output_type": "stream",
     "text": [
      "overllap after qctn optimization =0.01286120,\n",
      "n_gates=165, n_2qg=69\n",
      "\n",
      "preparing mps as linear combination of unitaries (num_lcu_layers=4)...\n"
     ]
    },
    {
     "name": "stderr",
     "output_type": "stream",
     "text": [
      "100%|██████████| 4/4 [00:01<00:00,  3.92it/s]\n"
     ]
    },
    {
     "name": "stdout",
     "output_type": "stream",
     "text": [
      "overllap after lcu. preparation = 0.60661233,  n_gates=6297, n_2qg=2626\n",
      "\n",
      "doing variational optimization over linear combination of unitaries (num_var_lcu_layers=2)...\n"
     ]
    },
    {
     "name": "stderr",
     "output_type": "stream",
     "text": [
      "100%|██████████| 2/2 [00:00<00:00,  5.11it/s]\n"
     ]
    },
    {
     "name": "stdout",
     "output_type": "stream",
     "text": [
      "overlap before lcu optimization = 0.5260918653 , n_gates=3292, n_2qg=1372\n",
      "overllap after lcu optimization (manopt) = 0.53487258\n",
      "\n",
      "doing variational optimization over linear combination of unitaries (num_var_lcu_layers=4)...\n"
     ]
    },
    {
     "name": "stderr",
     "output_type": "stream",
     "text": [
      "100%|██████████| 4/4 [00:01<00:00,  2.93it/s]\n"
     ]
    },
    {
     "name": "stdout",
     "output_type": "stream",
     "text": [
      "overlap before lcu optimization = 0.6066123550 , n_gates=6274, n_2qg=2618\n",
      "overllap after lcu optimization (manopt) = 0.63508509\n",
      "\n",
      "preparing random state\n",
      "preparing mps using sequential unitaries (num_seq_layers=2)...\n"
     ]
    },
    {
     "name": "stderr",
     "output_type": "stream",
     "text": [
      "100%|██████████| 2/2 [00:00<00:00, 15.77it/s]\n"
     ]
    },
    {
     "name": "stdout",
     "output_type": "stream",
     "text": [
      "overlap from static seq. preparation = 0.96460821 (from circ 0.96460821),\n",
      "n_gates=174, n_2qg=54\n",
      "\n",
      "doing variational optimization over sequential unitaries (num_var_seq_layers=2)...\n"
     ]
    },
    {
     "name": "stderr",
     "output_type": "stream",
     "text": [
      "100%|██████████| 2/2 [00:00<00:00, 16.46it/s]\n"
     ]
    },
    {
     "name": "stdout",
     "output_type": "stream",
     "text": [
      "number of variational params in the circuit (from sequential algorithm) are 462\n",
      "overlap before variational optimization = -0.9646066427\n"
     ]
    },
    {
     "name": "stderr",
     "output_type": "stream",
     "text": [
      "-0.834471821785 [best: -0.967593550682] : : 12it [00:23,  1.96s/it]                    \n"
     ]
    },
    {
     "name": "stdout",
     "output_type": "stream",
     "text": [
      "overllap after variational optimization = 0.96759355 (from circ 0.96759515),\n",
      "n_gates=174, n_2qg=54\n",
      "\n",
      "doing variational optimization over sequential unitaries (num_var_seq_layers=3)...\n"
     ]
    },
    {
     "name": "stderr",
     "output_type": "stream",
     "text": [
      "100%|██████████| 3/3 [00:00<00:00,  9.49it/s]\n"
     ]
    },
    {
     "name": "stdout",
     "output_type": "stream",
     "text": [
      "number of variational params in the circuit (from sequential algorithm) are 711\n",
      "overlap before variational optimization = -0.9740666151\n"
     ]
    },
    {
     "name": "stderr",
     "output_type": "stream",
     "text": [
      "-0.643398702145 [best: -0.976004838943] : : 12it [00:36,  3.01s/it]                    \n"
     ]
    },
    {
     "name": "stdout",
     "output_type": "stream",
     "text": [
      "overllap after variational optimization = 0.97600484 (from circ 0.97600640),\n",
      "n_gates=264, n_2qg=84\n",
      "\n",
      "preparing mps using quantum circuit tensor network ansatz (qctn_depth=2)...\n",
      "number of variational params in the circuit (from QCTN) are 174\n",
      "overlap before variational optimization = -0.0250100605\n"
     ]
    },
    {
     "name": "stderr",
     "output_type": "stream",
     "text": [
      "-0.628960609436 [best: -0.628960609436] : : 13it [00:07,  1.76it/s]                    \n"
     ]
    },
    {
     "name": "stdout",
     "output_type": "stream",
     "text": [
      "overllap after qctn optimization =0.62896061 (from circ 0.40328076),\n",
      "n_gates=58, n_2qg=22\n",
      "\n",
      "preparing mps using quantum circuit tensor network ansatz (qctn_depth=3)...\n",
      "number of variational params in the circuit (from QCTN) are 243\n",
      "overlap before variational optimization = -0.0160450898\n"
     ]
    },
    {
     "name": "stderr",
     "output_type": "stream",
     "text": [
      "-0.691146731377 [best: -0.691146731377] : : 13it [00:07,  1.65it/s]                    \n"
     ]
    },
    {
     "name": "stdout",
     "output_type": "stream",
     "text": [
      "overllap after qctn optimization =0.69114673 (from circ 0.32620832),\n",
      "n_gates=81, n_2qg=33\n",
      "\n",
      "preparing mps as linear combination of unitaries (num_lcu_layers=4)...\n"
     ]
    },
    {
     "name": "stderr",
     "output_type": "stream",
     "text": [
      "100%|██████████| 4/4 [00:00<00:00,  9.46it/s]\n"
     ]
    },
    {
     "name": "stdout",
     "output_type": "stream",
     "text": [
      "overllap after lcu. preparation = 0.98729730 (from circ 0.98729730),  n_gates=3150, n_2qg=1312\n",
      "\n",
      "doing variational optimization over linear combination of unitaries (num_var_lcu_layers=2)...\n"
     ]
    },
    {
     "name": "stderr",
     "output_type": "stream",
     "text": [
      "100%|██████████| 2/2 [00:00<00:00, 12.72it/s]\n"
     ]
    },
    {
     "name": "stdout",
     "output_type": "stream",
     "text": [
      "overlap before lcu optimization = 0.9727310182  (from circ 0.97273102), n_gates=1592, n_2qg=664\n",
      "overllap after lcu optimization (manopt) = 0.97524163\n",
      "\n",
      "doing variational optimization over linear combination of unitaries (num_var_lcu_layers=4)...\n"
     ]
    },
    {
     "name": "stderr",
     "output_type": "stream",
     "text": [
      "100%|██████████| 4/4 [00:00<00:00, 11.28it/s]\n"
     ]
    },
    {
     "name": "stdout",
     "output_type": "stream",
     "text": [
      "overlap before lcu optimization = 0.9872973050  (from circ 0.98729730), n_gates=3150, n_2qg=1312\n",
      "overllap after lcu optimization (manopt) = 0.98902936\n",
      "\n",
      "preparing N2 state\n",
      "preparing mps using sequential unitaries (num_seq_layers=2)...\n"
     ]
    },
    {
     "name": "stderr",
     "output_type": "stream",
     "text": [
      "100%|██████████| 2/2 [00:02<00:00,  1.03s/it]\n"
     ]
    },
    {
     "name": "stdout",
     "output_type": "stream",
     "text": [
      "overlap from static seq. preparation = 0.74644647,\n",
      "n_gates=134, n_2qg=38\n",
      "\n",
      "doing variational optimization over sequential unitaries (num_var_seq_layers=2)...\n"
     ]
    },
    {
     "name": "stderr",
     "output_type": "stream",
     "text": [
      "100%|██████████| 2/2 [00:02<00:00,  1.10s/it]\n"
     ]
    },
    {
     "name": "stdout",
     "output_type": "stream",
     "text": [
      "number of variational params in the circuit (from sequential algorithm) are 375\n",
      "overlap before variational optimization = -0.7464455366\n"
     ]
    },
    {
     "name": "stderr",
     "output_type": "stream",
     "text": [
      "-0.545898199081 [best: -0.746485710144] : : 16it [00:27,  1.72s/it]                    \n"
     ]
    },
    {
     "name": "stdout",
     "output_type": "stream",
     "text": [
      "overllap after variational optimization = 0.74648571,\n",
      "n_gates=125, n_2qg=35\n",
      "\n",
      "doing variational optimization over sequential unitaries (num_var_seq_layers=3)...\n"
     ]
    },
    {
     "name": "stderr",
     "output_type": "stream",
     "text": [
      "100%|██████████| 3/3 [00:04<00:00,  1.41s/it]\n"
     ]
    },
    {
     "name": "stdout",
     "output_type": "stream",
     "text": [
      "number of variational params in the circuit (from sequential algorithm) are 570\n",
      "overlap before variational optimization = -0.7926087379\n"
     ]
    },
    {
     "name": "stderr",
     "output_type": "stream",
     "text": [
      "-0.297174692154 [best: -0.803388535976] : : 12it [00:31,  2.59s/it]                    \n"
     ]
    },
    {
     "name": "stdout",
     "output_type": "stream",
     "text": [
      "overllap after variational optimization = 0.80338854,\n",
      "n_gates=182, n_2qg=54\n",
      "\n",
      "preparing mps using quantum circuit tensor network ansatz (qctn_depth=2)...\n",
      "number of variational params in the circuit (from QCTN) are 294\n",
      "overlap before variational optimization = -0.0012168770\n"
     ]
    },
    {
     "name": "stderr",
     "output_type": "stream",
     "text": [
      "-0.333739697933 [best: -0.333739697933] : : 16it [00:23,  1.47s/it]                    \n"
     ]
    },
    {
     "name": "stdout",
     "output_type": "stream",
     "text": [
      "overllap after qctn optimization =0.33373970,\n",
      "n_gates=98, n_2qg=38\n",
      "\n",
      "preparing mps using quantum circuit tensor network ansatz (qctn_depth=3)...\n",
      "number of variational params in the circuit (from QCTN) are 411\n",
      "overlap before variational optimization = -0.0000431540\n"
     ]
    },
    {
     "name": "stderr",
     "output_type": "stream",
     "text": [
      "-0.089494735003 [best: -0.089494735003] : : 19it [00:36,  1.93s/it]                    \n"
     ]
    },
    {
     "name": "stdout",
     "output_type": "stream",
     "text": [
      "overllap after qctn optimization =0.08949474,\n",
      "n_gates=137, n_2qg=57\n",
      "\n",
      "preparing mps as linear combination of unitaries (num_lcu_layers=4)...\n"
     ]
    },
    {
     "name": "stderr",
     "output_type": "stream",
     "text": [
      "100%|██████████| 4/4 [00:06<00:00,  1.61s/it]\n"
     ]
    },
    {
     "name": "stdout",
     "output_type": "stream",
     "text": [
      "overllap after lcu. preparation = 0.84256240,  n_gates=3021, n_2qg=1250\n",
      "\n",
      "doing variational optimization over linear combination of unitaries (num_var_lcu_layers=2)...\n"
     ]
    },
    {
     "name": "stderr",
     "output_type": "stream",
     "text": [
      "100%|██████████| 2/2 [00:02<00:00,  1.19s/it]\n"
     ]
    },
    {
     "name": "stdout",
     "output_type": "stream",
     "text": [
      "overlap before lcu optimization = 0.7329687392 , n_gates=1087, n_2qg=446\n"
     ]
    },
    {
     "name": "stderr",
     "output_type": "stream",
     "text": [
      "100%|██████████| 4/4 [00:14<00:00,  3.51s/it]"
     ]
    },
    {
     "name": "stdout",
     "output_type": "stream",
     "text": [
      "final overlap (after 4 iters):  -0.73289397079898888\n"
     ]
    },
    {
     "name": "stderr",
     "output_type": "stream",
     "text": [
      "\n"
     ]
    },
    {
     "name": "stdout",
     "output_type": "stream",
     "text": [
      "overllap after lcu optimization (qgopt) = 0.73288263\n",
      "\n",
      "doing variational optimization over linear combination of unitaries (num_var_lcu_layers=4)...\n"
     ]
    },
    {
     "name": "stderr",
     "output_type": "stream",
     "text": [
      "100%|██████████| 4/4 [00:08<00:00,  2.24s/it]\n"
     ]
    },
    {
     "name": "stdout",
     "output_type": "stream",
     "text": [
      "overlap before lcu optimization = 0.8425623987 , n_gates=3020, n_2qg=1250\n"
     ]
    },
    {
     "name": "stderr",
     "output_type": "stream",
     "text": [
      "100%|██████████| 4/4 [00:40<00:00, 10.14s/it]"
     ]
    },
    {
     "name": "stdout",
     "output_type": "stream",
     "text": [
      "final overlap (after 4 iters):  -0.84246211100748036\n"
     ]
    },
    {
     "name": "stderr",
     "output_type": "stream",
     "text": [
      "\n"
     ]
    },
    {
     "name": "stdout",
     "output_type": "stream",
     "text": [
      "overllap after lcu optimization (qgopt) = 0.84238164\n",
      "\n",
      "preparing heisenberg state\n",
      "preparing mps using sequential unitaries (num_seq_layers=2)...\n"
     ]
    },
    {
     "name": "stderr",
     "output_type": "stream",
     "text": [
      "100%|██████████| 2/2 [00:06<00:00,  3.26s/it]\n"
     ]
    },
    {
     "name": "stdout",
     "output_type": "stream",
     "text": [
      "overlap from static seq. preparation = 0.62209460,\n",
      "n_gates=518, n_2qg=162\n",
      "\n",
      "doing variational optimization over sequential unitaries (num_var_seq_layers=2)...\n"
     ]
    },
    {
     "name": "stderr",
     "output_type": "stream",
     "text": [
      "100%|██████████| 2/2 [00:05<00:00,  2.82s/it]\n"
     ]
    },
    {
     "name": "stdout",
     "output_type": "stream",
     "text": [
      "number of variational params in the circuit (from sequential algorithm) are 1344\n",
      "overlap before variational optimization = -0.6220932603\n"
     ]
    },
    {
     "name": "stderr",
     "output_type": "stream",
     "text": [
      "-0.014753780328 [best: -0.644457459450] : : 16it [01:50,  6.89s/it]                    \n"
     ]
    },
    {
     "name": "stdout",
     "output_type": "stream",
     "text": [
      "overllap after variational optimization = 0.64445746,\n",
      "n_gates=515, n_2qg=161\n",
      "\n",
      "doing variational optimization over sequential unitaries (num_var_seq_layers=3)...\n"
     ]
    },
    {
     "name": "stderr",
     "output_type": "stream",
     "text": [
      "100%|██████████| 3/3 [00:24<00:00,  8.13s/it]\n"
     ]
    },
    {
     "name": "stdout",
     "output_type": "stream",
     "text": [
      "number of variational params in the circuit (from sequential algorithm) are 2013\n",
      "overlap before variational optimization = -0.6894623637\n"
     ]
    },
    {
     "name": "stderr",
     "output_type": "stream",
     "text": [
      "-0.010681507178 [best: -0.717390298843] : : 17it [03:19, 11.75s/it]                    \n"
     ]
    },
    {
     "name": "stdout",
     "output_type": "stream",
     "text": [
      "overllap after variational optimization = 0.71739030,\n",
      "n_gates=755, n_2qg=241\n",
      "\n",
      "preparing mps using quantum circuit tensor network ansatz (qctn_depth=2)...\n",
      "number of variational params in the circuit (from QCTN) are 474\n",
      "overlap before variational optimization = -0.0000000041\n"
     ]
    },
    {
     "name": "stderr",
     "output_type": "stream",
     "text": [
      "-0.000000013275 [best: -0.000000013275] :  50%|█████     | 2/4 [00:02<00:02,  1.35s/it]\n"
     ]
    },
    {
     "name": "stdout",
     "output_type": "stream",
     "text": [
      "overllap after qctn optimization =0.00000001,\n",
      "n_gates=158, n_2qg=62\n",
      "\n",
      "preparing mps using quantum circuit tensor network ansatz (qctn_depth=3)...\n",
      "number of variational params in the circuit (from QCTN) are 663\n",
      "overlap before variational optimization = -0.0000009453\n"
     ]
    },
    {
     "name": "stderr",
     "output_type": "stream",
     "text": [
      "-0.000000420314 [best: -0.000000945280] :  50%|█████     | 2/4 [00:03<00:03,  1.88s/it]\n"
     ]
    },
    {
     "name": "stdout",
     "output_type": "stream",
     "text": [
      "overllap after qctn optimization =0.00000095,\n",
      "n_gates=221, n_2qg=93\n",
      "\n",
      "preparing mps as linear combination of unitaries (num_lcu_layers=4)...\n"
     ]
    },
    {
     "name": "stderr",
     "output_type": "stream",
     "text": [
      "100%|██████████| 4/4 [00:01<00:00,  2.16it/s]\n"
     ]
    },
    {
     "name": "stdout",
     "output_type": "stream",
     "text": [
      "overllap after lcu. preparation = 0.76810639,  n_gates=8596, n_2qg=3586\n",
      "\n",
      "doing variational optimization over linear combination of unitaries (num_var_lcu_layers=2)...\n"
     ]
    },
    {
     "name": "stderr",
     "output_type": "stream",
     "text": [
      "100%|██████████| 2/2 [00:00<00:00,  2.61it/s]\n"
     ]
    },
    {
     "name": "stdout",
     "output_type": "stream",
     "text": [
      "overlap before lcu optimization = 0.7278146666 , n_gates=4239, n_2qg=1764\n",
      "overllap after lcu optimization (manopt) = 0.76513800\n",
      "\n",
      "doing variational optimization over linear combination of unitaries (num_var_lcu_layers=4)...\n"
     ]
    },
    {
     "name": "stderr",
     "output_type": "stream",
     "text": [
      "100%|██████████| 4/4 [00:02<00:00,  1.55it/s]\n"
     ]
    },
    {
     "name": "stdout",
     "output_type": "stream",
     "text": [
      "overlap before lcu optimization = 0.7681063982 , n_gates=8551, n_2qg=3566\n"
     ]
    }
   ],
   "source": [
    "data_seq = {}\n",
    "data_var_seq = {}\n",
    "data_qctn = {}\n",
    "data_lcu = {}\n",
    "data_var_lcu = {}\n",
    "\n",
    "mps_types = [\"aklt\", \"random\", \"N2\", \"heisenberg\"]\n",
    "for mps_type in mps_types:\n",
    "    print(f\"preparing {mps_type} state\")\n",
    "    target_mps = get_target_mps(mps_type)\n",
    "    prep = MPSPreparation(target_mps)\n",
    "\n",
    "    ####### sequential mps preparation\n",
    "    data_seq[mps_type] = prep.sequential_unitary_circuit(num_seq_layers=2)\n",
    "\n",
    "    ####### variational mps preparation with sequential circicuit ansatz\n",
    "    data_var_seq[mps_type] = {}\n",
    "    for num_var_seq_layers in [2, 3]:\n",
    "        data_var_seq[mps_type][num_var_seq_layers] = prep.sequential_unitary_circuit_optimization(num_var_seq_layers,  max_iterations=4)\n",
    "                        \n",
    "    ####### quantum circuit tensor network ansatz\n",
    "    data_qctn[mps_type] = {}\n",
    "    max_iterations = 4\n",
    "    for qctn_depth in [2,3]:#[2,4,6,8]:\n",
    "        data_qctn[mps_type][qctn_depth] = prep.quantum_circuit_tensor_network_ansatz(qctn_depth, max_iterations=max_iterations)\n",
    "        \n",
    "    ###### lcu mps preparation\n",
    "    data_lcu[mps_type] = prep.lcu_unitary_circuit(num_lcu_layers = 4)\n",
    "    \n",
    "    ###### variational mps preparation with lcu ansatz\n",
    "    data_var_lcu[mps_type] = {}\n",
    "    for num_var_lcu_layers in [2, 4]:\n",
    "        data_var_lcu[mps_type][num_var_lcu_layers] = prep.lcu_unitary_circuit_optimization(num_var_lcu_layers, max_iterations=4)"
   ]
  },
  {
   "cell_type": "code",
   "execution_count": null,
   "metadata": {},
   "outputs": [],
   "source": [
    "labels = {\n",
    "        \"aklt\": \"aklt state, $L=12$\",\n",
    "        \"random\": \"random, $L=12$\",\n",
    "        \"N2\": \"$N_2$, (STO-6G), $L=20$\",\n",
    "        \"heisenberg\": \"HAF, $L=32$\",\n",
    "    }"
   ]
  },
  {
   "cell_type": "code",
   "execution_count": null,
   "metadata": {},
   "outputs": [],
   "source": [
    "for mps_type in mps_types:\n",
    "    num_layers = data_seq[mps_type]['it_Ds']\n",
    "    overlaps = data_seq[mps_type]['overlaps']\n",
    "    plt.plot(num_layers, (1-np.abs(np.array(overlaps))), 'o-', label=labels[mps_type])\n",
    "plt.xlabel('$num\\ of\\ seq.\\ layers$')\n",
    "plt.ylabel('$overlap\\ with\\ target\\ wavefunction$')\n",
    "plt.legend()"
   ]
  },
  {
   "cell_type": "code",
   "execution_count": null,
   "metadata": {},
   "outputs": [],
   "source": [
    "for mps_type in mps_types:\n",
    "    num_layers = [2,3]\n",
    "    overlaps = [-data_var_seq[mps_type][n]['tnopt'].loss_best for n in num_layers]\n",
    "    plt.plot(num_layers, (1-np.abs(np.array(overlaps))), 'o-', label=labels[mps_type])\n",
    "plt.title(r'$variational\\ sequential\\ unitary\\ ansatz$')\n",
    "plt.ylabel('$overlap\\ with\\ target\\ wavefunction$')\n",
    "plt.xlabel('$num\\ of\\ variational\\ sequential\\ layers$')\n",
    "plt.legend()"
   ]
  },
  {
   "cell_type": "code",
   "execution_count": null,
   "metadata": {},
   "outputs": [],
   "source": [
    "for mps_type in mps_types:\n",
    "    qctn_depth = [2,3]\n",
    "    overlaps = [-data_qctn[mps_type][n]['tnopt'].loss_best for n in qctn_depth]\n",
    "    plt.plot(qctn_depth, (1-np.abs(np.array(overlaps))), 'o-', label=labels[mps_type])\n",
    "plt.title(r'$quantum\\ circuit\\ tensor\\ network\\ ansatz$')\n",
    "plt.xlabel('$circuit\\ depth$')\n",
    "plt.ylabel('$overlap\\ with\\ target\\ wavefunction$')\n",
    "plt.legend()"
   ]
  },
  {
   "cell_type": "code",
   "execution_count": null,
   "metadata": {},
   "outputs": [],
   "source": [
    "for mps_type in mps_types:\n",
    "    num_layers = data_lcu[mps_type]['it_Ds']\n",
    "    overlaps = data_lcu[mps_type]['overlaps']\n",
    "    plt.plot(num_layers, (1-np.abs(np.array(overlaps))), 'o-', label=labels[mps_type])\n",
    "plt.title(r'$Linear\\ combination\\ of\\ unitaries\\ (LCU)$')\n",
    "plt.ylabel('$overlap\\ with\\ target\\ wavefunction$')\n",
    "plt.xlabel('$num\\ of\\ lcu\\ layers$')\n",
    "plt.legend()"
   ]
  },
  {
   "cell_type": "code",
   "execution_count": null,
   "metadata": {},
   "outputs": [],
   "source": [
    "for mps_type in mps_types:\n",
    "    num_layers = [2, 4]\n",
    "    overlaps = [data_var_lcu[mps_type][n][\"overlap\"] for n in num_layers]\n",
    "    plt.plot(\n",
    "        num_layers, (1 - np.abs(np.array(overlaps))), \"o-\", label=labels[mps_type]\n",
    "    )\n",
    "plt.title(r\"$Variational\\ LCU$\")\n",
    "plt.ylabel(\"$overlap\\ with\\ target\\ wavefunction$\")\n",
    "plt.xlabel(\"$num\\ of\\ lcu\\ layers$\")\n",
    "plt.legend()"
   ]
  },
  {
   "cell_type": "code",
   "execution_count": null,
   "metadata": {},
   "outputs": [],
   "source": [
    "    # ###### 1d adiabatic state preparation - random D=d=2 mps\n",
    "    # prep_blocked = MPSPreparation(tensor_array_blocked, shape='lrp')\n",
    "    # Tmax, tau = 8, 0.04 # total runtime, trotter step size\n",
    "    # max_bond = 2\n",
    "    # prep_blocked.adiabatic_state_preparation(Tmax, tau, max_bond, verbose=False)\n"
   ]
  }
 ],
 "metadata": {
  "kernelspec": {
   "display_name": "spy",
   "language": "python",
   "name": "python3"
  },
  "language_info": {
   "codemirror_mode": {
    "name": "ipython",
    "version": 3
   },
   "file_extension": ".py",
   "mimetype": "text/x-python",
   "name": "python",
   "nbconvert_exporter": "python",
   "pygments_lexer": "ipython3",
   "version": "3.10.12"
  },
  "orig_nbformat": 4
 },
 "nbformat": 4,
 "nbformat_minor": 2
}
