{
 "cells": [
  {
   "cell_type": "markdown",
   "metadata": {},
   "source": [
    "<h2 align=\"center\">\n",
    "\tUnitary Preparation of Tensor Network States\n",
    "</h2>"
   ]
  },
  {
   "cell_type": "code",
   "execution_count": 1,
   "metadata": {},
   "outputs": [],
   "source": [
    "import numpy as np\n",
    "import pickle as pkl\n",
    "\n",
    "import quimb.tensor as qtn\n",
    "\n",
    "from qsp.misc_states import make_aklt_mps\n",
    "from qsp.misc_states import make_aklt_peps\n",
    "from qsp.tsp import MPSPreparation, PEPSPreparation\n",
    "from qsp.tsp_helper_routines import make_splitted_mps"
   ]
  },
  {
   "cell_type": "markdown",
   "metadata": {},
   "source": [
    "Given the requirements load/construct MPS of cetain length."
   ]
  },
  {
   "cell_type": "code",
   "execution_count": 5,
   "metadata": {},
   "outputs": [],
   "source": [
    "mps_type = 'aklt'#'random'#'N2'#'P4'#'heisenberg'#\n",
    "\n",
    "if mps_type == 'aklt':\n",
    "    tensor_array, _ = make_aklt_mps(L=6)\n",
    "    tensor_array = make_splitted_mps(tensor_array)\n",
    "    target_mps = qtn.MatrixProductState(tensor_array, shape='lrp')\n",
    "\n",
    "\n",
    "if mps_type == 'random':\n",
    "    target_mps = qtn.MPS_rand_state(L=12, bond_dim=4)\n",
    "    target_mps.permute_arrays(shape='lrp')\n",
    "    \n",
    "    \n",
    "if mps_type in ['P4','N2','heisenberg']:\n",
    "    filenames = {'P4': 'data/P4_6-31G_dist2.0000.pkl',              # \n",
    "                    'N2': 'data/N2_STO-6G_dist2.0000.pkl',\n",
    "                    'heisenberg':'data/heisenberg_L32_dist0.8000.pkl'}\n",
    "    with open(filenames[mps_type], 'rb') as f:\n",
    "        data = pkl.load(f)\n",
    "    target_mps = data['quimb_mps']"
   ]
  },
  {
   "cell_type": "markdown",
   "metadata": {},
   "source": [
    "<h2 align=\"center\">\n",
    "\tMatrix Product States\n",
    "</h2>\n",
    "<h3 align=\"left\">\n",
    "\t1. Sequential preparation\n",
    "</h3>\n",
    "\n",
    "\n",
    "$$\n",
    "| \\psi[A] \\rangle \\approx  (U_0. U_1. … U_D) |00...0\\rangle\n",
    "$$\n",
    "\n",
    "\n",
    "where $D$ is the number of layers of unitaries $U_i$ (see [[1]], [[2]]).\n",
    " \n",
    "\n",
    "[1]: https://arxiv.org/pdf/2209.07106.pdf\n",
    "[2]: https://journals.aps.org/pra/abstract/10.1103/PhysRevA.101.032310"
   ]
  },
  {
   "cell_type": "code",
   "execution_count": 6,
   "metadata": {},
   "outputs": [
    {
     "name": "stdout",
     "output_type": "stream",
     "text": [
      "preparing mps using sequential unitaries...\n"
     ]
    },
    {
     "name": "stderr",
     "output_type": "stream",
     "text": [
      "100%|██████████| 6/6 [00:01<00:00,  3.93it/s]\n"
     ]
    },
    {
     "name": "stdout",
     "output_type": "stream",
     "text": [
      "overlap from static seq. preparation = 0.94190485 (from circ 0.94190491),\n",
      "n_gates=453, n_2qg=147\n",
      "\n"
     ]
    }
   ],
   "source": [
    "prep = MPSPreparation(target_mps)\n",
    "number_of_layers = 6\n",
    "prep.sequential_unitary_circuit(number_of_layers, do_compression=False)"
   ]
  },
  {
   "cell_type": "code",
   "execution_count": 7,
   "metadata": {},
   "outputs": [
    {
     "data": {
      "text/plain": [
       "453"
      ]
     },
     "execution_count": 7,
     "metadata": {},
     "output_type": "execute_result"
    }
   ],
   "source": [
    "circ = prep.seq_data['circ']\n",
    "circ.size()"
   ]
  },
  {
   "cell_type": "markdown",
   "metadata": {},
   "source": [
    "<h3 align=\"left\">\n",
    "\t2. Variational optimization over sequentially prepared unitaries\n",
    "</h3>"
   ]
  },
  {
   "cell_type": "code",
   "execution_count": 8,
   "metadata": {},
   "outputs": [
    {
     "name": "stdout",
     "output_type": "stream",
     "text": [
      "doing variational optimization over sequential unitaries...\n"
     ]
    },
    {
     "name": "stderr",
     "output_type": "stream",
     "text": [
      "100%|██████████| 2/2 [00:00<00:00, 11.86it/s]\n"
     ]
    },
    {
     "name": "stdout",
     "output_type": "stream",
     "text": [
      "number of variational params in the circuit (from sequential algorithm) are 483\n",
      "overlap before variational optimization = -0.8447832465\n"
     ]
    },
    {
     "name": "stderr",
     "output_type": "stream",
     "text": [
      "-0.906573712826 [best: -0.906573712826] :  10%|█         | 16/160 [00:40<06:30,  2.72s/it]"
     ]
    }
   ],
   "source": [
    "prep = MPSPreparation(target_mps)\n",
    "number_of_layers = 2\n",
    "n_iter, nhop = 40, 4\n",
    "prep.sequential_unitary_circuit_optimization(number_of_layers, do_compression=False, n_iter=n_iter, nhop=nhop)"
   ]
  },
  {
   "cell_type": "markdown",
   "metadata": {},
   "source": [
    "<h3 align=\"left\">\n",
    "\t3. Quantum Circuit Tensor Network Ansatz\n",
    "</h3>"
   ]
  },
  {
   "cell_type": "code",
   "execution_count": null,
   "metadata": {},
   "outputs": [],
   "source": [
    "prep = MPSPreparation(target_mps)\n",
    "depth = 8\n",
    "n_iter, nhop = 40, 4,\n",
    "prep.quantum_circuit_tensor_network_ansatz(depth, n_iter=n_iter, nhop=nhop)"
   ]
  },
  {
   "cell_type": "markdown",
   "metadata": {},
   "source": [
    "<h3 align=\"left\">\n",
    "\t4. Preparation using Linear Combinition of unitaries (LCU)\n",
    "</h3>\n",
    "\n",
    "\\begin{aligned}\n",
    "\t|\\psi[A] \\rangle = \\left( U_0 + \\kappa_1U_1 + \\kappa_2U_2 + \\dots\\right)|00\\dots0\\rangle,\n",
    "\\end{aligned}\n",
    "\n",
    "see [[1]] for details\n",
    "\n",
    "[1]: https://arxiv.org/pdf/2209.07106.pdf\n"
   ]
  },
  {
   "cell_type": "code",
   "execution_count": null,
   "metadata": {},
   "outputs": [],
   "source": [
    "prep = MPSPreparation(target_mps)\n",
    "number_of_lcu_layers = 4\n",
    "prep.lcu_unitary_circuit(number_of_lcu_layers, verbose=False)"
   ]
  },
  {
   "cell_type": "markdown",
   "metadata": {},
   "source": [
    "<h3 align=\"left\">\n",
    "\t5. Variational optimization over LCU construction\n",
    "</h3>"
   ]
  },
  {
   "cell_type": "code",
   "execution_count": null,
   "metadata": {},
   "outputs": [],
   "source": [
    "prep = MPSPreparation(target_mps)\n",
    "number_of_lcu_layers = 4\n",
    "prep.lcu_unitary_circuit_optimization(number_of_lcu_layers, verbose=True)"
   ]
  },
  {
   "cell_type": "markdown",
   "metadata": {},
   "source": [
    "<h3 align=\"left\">\n",
    "\t6. Adiabatic state Preparation of MPS\n",
    "</h3>"
   ]
  },
  {
   "cell_type": "code",
   "execution_count": null,
   "metadata": {},
   "outputs": [],
   "source": [
    "target_mps = qtn.MPS_rand_state(L=6, bond_dim=2)\n",
    "prep = MPSPreparation(target_mps)\n",
    "Tmax, tau = 8, 0.04 #total runtime, trotter step size\n",
    "max_bond = 2\n",
    "prep.adiabatic_state_preparation(Tmax, tau, max_bond, verbose=False)\n",
    "\n",
    "plt.plot(mps_p.adiabatic_data['target_fidelity'].keys(), mps_p.adiabatic_data['target_fidelity'].values(), '.-')\n",
    "plt.title('random mps')\n",
    "plt.xlabel('time')\n",
    "plt.ylabel('current fidelity')"
   ]
  },
  {
   "cell_type": "code",
   "execution_count": null,
   "metadata": {},
   "outputs": [],
   "source": [
    "tensor_array, _ = make_aklt_mps(L=6)\n",
    "prep = MPSPreparation(tensor_array, shape='lrp')\n",
    "Tmax, tau = 8, 0.04 # total runtime, trotter step size\n",
    "max_bond = 2\n",
    "prep.adiabatic_state_preparation(Tmax, tau, max_bond, verbose=False)    \n",
    "plt.plot(prep.adiabatic_data['target_fidelity'].keys(), prep.adiabatic_data['target_fidelity'].values(), '.-')\n",
    "plt.title('1d aklt')\n",
    "plt.xlabel('time')\n",
    "plt.ylabel('current fidelity')"
   ]
  },
  {
   "cell_type": "markdown",
   "metadata": {},
   "source": [
    "<h2 align=\"center\">\n",
    "\tProjected Entangled Pair States (PEPS) in 2d\n",
    "</h2>\n",
    "<h3 align=\"left\">\n",
    "\t1. Adiabatic state Preparation\n",
    "</h3>"
   ]
  },
  {
   "cell_type": "code",
   "execution_count": null,
   "metadata": {},
   "outputs": [],
   "source": [
    "Lx, Ly = 10, 4\n",
    "target_grid, _ = make_aklt_peps(Lx, Ly)\n",
    "prep = PEPSPreparation(target_grid)\n",
    "\n",
    "Tmax, tau = 10, 0.04\n",
    "max_bond = 2\n",
    "prep.adiabatic_state_preparation(Tmax, tau, max_bond, verbose=False)\n",
    "\n",
    "plt.plot(prep.adiabatic_data['target_fidelity'].keys(), prep.adiabatic_data['target_fidelity'].values(), '.-')"
   ]
  }
 ],
 "metadata": {
  "kernelspec": {
   "display_name": "spy",
   "language": "python",
   "name": "python3"
  },
  "language_info": {
   "codemirror_mode": {
    "name": "ipython",
    "version": 3
   },
   "file_extension": ".py",
   "mimetype": "text/x-python",
   "name": "python",
   "nbconvert_exporter": "python",
   "pygments_lexer": "ipython3",
   "version": "3.10.12"
  },
  "orig_nbformat": 4
 },
 "nbformat": 4,
 "nbformat_minor": 2
}
