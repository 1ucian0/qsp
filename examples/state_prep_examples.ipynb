{
 "cells": [
  {
   "cell_type": "markdown",
   "metadata": {},
   "source": [
    "<h2 align=\"center\">\n",
    "\tUnitary Preparation of Tensor Network States\n",
    "</h2>"
   ]
  },
  {
   "cell_type": "code",
   "execution_count": 3,
   "metadata": {},
   "outputs": [
    {
     "name": "stderr",
     "output_type": "stream",
     "text": [
      "2023-08-29 17:43:50.085407: I tensorflow/core/platform/cpu_feature_guard.cc:193] This TensorFlow binary is optimized with oneAPI Deep Neural Network Library (oneDNN) to use the following CPU instructions in performance-critical operations:  AVX2 FMA\n",
      "To enable them in other operations, rebuild TensorFlow with the appropriate compiler flags.\n",
      "2023-08-29 17:43:51.705528: W tensorflow/compiler/xla/stream_executor/platform/default/dso_loader.cc:64] Could not load dynamic library 'libcudart.so.11.0'; dlerror: libcudart.so.11.0: cannot open shared object file: No such file or directory\n",
      "2023-08-29 17:43:51.705656: I tensorflow/compiler/xla/stream_executor/cuda/cudart_stub.cc:29] Ignore above cudart dlerror if you do not have a GPU set up on your machine.\n",
      "2023-08-29 17:43:55.420319: W tensorflow/compiler/xla/stream_executor/platform/default/dso_loader.cc:64] Could not load dynamic library 'libnvinfer.so.7'; dlerror: libnvinfer.so.7: cannot open shared object file: No such file or directory\n",
      "2023-08-29 17:43:55.420547: W tensorflow/compiler/xla/stream_executor/platform/default/dso_loader.cc:64] Could not load dynamic library 'libnvinfer_plugin.so.7'; dlerror: libnvinfer_plugin.so.7: cannot open shared object file: No such file or directory\n",
      "2023-08-29 17:43:55.420565: W tensorflow/compiler/tf2tensorrt/utils/py_utils.cc:38] TF-TRT Warning: Cannot dlopen some TensorRT libraries. If you would like to use Nvidia GPU with TensorRT, please make sure the missing libraries mentioned above are installed properly.\n",
      "/home/mohsin/programs/miniconda3/envs/spy/lib/python3.10/site-packages/tqdm/auto.py:21: TqdmWarning: IProgress not found. Please update jupyter and ipywidgets. See https://ipywidgets.readthedocs.io/en/stable/user_install.html\n",
      "  from .autonotebook import tqdm as notebook_tqdm\n"
     ]
    }
   ],
   "source": [
    "from matplotlib import pyplot as plt\n",
    "import numpy as np\n",
    "import pickle as pkl\n",
    "\n",
    "import sys\n",
    "from os.path import dirname, abspath\n",
    "sys.path.append('/home/mohsin/Documents/gh/gh_qsp/scr')\n",
    "\n",
    "import quimb.tensor as qtn\n",
    "\n",
    "from tsp_misc_tns import make_aklt_mps, make_splitted_mps\n",
    "from tsp_misc_tns import make_aklt_peps\n",
    "\n",
    "from tsp import MPSPreparation, PEPSPreparation"
   ]
  },
  {
   "cell_type": "markdown",
   "metadata": {},
   "source": [
    "Given the requirements load/construct MPS of cetain length."
   ]
  },
  {
   "cell_type": "code",
   "execution_count": 5,
   "metadata": {},
   "outputs": [],
   "source": [
    "mps_type = 'aklt'#'heisenberg'#'heisenberg'#'random'#\n",
    "\n",
    "if mps_type == 'aklt':\n",
    "    tens, bond = make_aklt_mps(L=6)\n",
    "    tens = make_splitted_mps(tens)\n",
    "    target_mps = qtn.MatrixProductState(tens, shape='lrp')\n",
    "    target_mps.normalize()\n",
    "    \n",
    "    \n",
    "if mps_type == 'random':\n",
    "    target_mps = qtn.MPS_rand_state(L=12, bond_dim=4)\n",
    "    target_mps.permute_arrays(shape='lrp')\n",
    "    \n",
    "    \n",
    "if mps_type in ['P4','N2','heisenberg']:\n",
    "    filenames = {'P4': 'data/P4_6-31G_dist2.0000.pkl', \n",
    "                'N2': 'data/N2_STO-6G_dist2.0000.pkl',\n",
    "                'heisenberg':'data/heisenberg_L32_dist0.8000.pkl'}\n",
    "    \n",
    "    with open(filenames[mps_type], 'rb') as f:\n",
    "        data = pkl.load(f)\n",
    "    \n",
    "    target_mps = data['quimb_mps']\n",
    "    target_mps.permute_arrays(shape='lpr')\n",
    "\n"
   ]
  },
  {
   "cell_type": "markdown",
   "metadata": {},
   "source": [
    "<h2 align=\"center\">\n",
    "\tMatrix Product States\n",
    "</h2>\n",
    "<h3 align=\"left\">\n",
    "\t1. Sequential preparation\n",
    "</h3>\n",
    "\n",
    "\n",
    "$$\n",
    "| \\psi[A] \\rangle \\approx  (U_0. U_1. … U_D) |00...0\\rangle\n",
    "$$\n",
    "\n",
    "\n",
    "where $D$ is the number of layers of unitaries $U_i$ (see [[1]], [[2]]).\n",
    " \n",
    "\n",
    "[1]: https://arxiv.org/pdf/2209.07106.pdf\n",
    "[2]: https://journals.aps.org/pra/abstract/10.1103/PhysRevA.101.032310"
   ]
  },
  {
   "cell_type": "code",
   "execution_count": 6,
   "metadata": {},
   "outputs": [
    {
     "name": "stderr",
     "output_type": "stream",
     "text": [
      "  0%|          | 0/6 [00:00<?, ?it/s]"
     ]
    },
    {
     "name": "stderr",
     "output_type": "stream",
     "text": [
      "100%|██████████| 6/6 [00:02<00:00,  2.32it/s]\n"
     ]
    },
    {
     "name": "stdout",
     "output_type": "stream",
     "text": [
      "overlap to target mps from constructed circuit = 0.9315328994866521\n",
      "overlap from static seq. preparation = 0.93153290, n_gates=528, n_2qg=172\n"
     ]
    }
   ],
   "source": [
    "prep = MPSPreparation(target_mps)\n",
    "number_of_layers = 6\n",
    "prep.seq_preparation(number_of_layers, do_compression=False)"
   ]
  },
  {
   "cell_type": "code",
   "execution_count": 8,
   "metadata": {},
   "outputs": [
    {
     "data": {
      "text/plain": [
       "528"
      ]
     },
     "execution_count": 8,
     "metadata": {},
     "output_type": "execute_result"
    }
   ],
   "source": [
    "circ = prep.seq_data['circ']\n",
    "circ.size()"
   ]
  },
  {
   "cell_type": "markdown",
   "metadata": {},
   "source": [
    "<h3 align=\"left\">\n",
    "\t2. Variational optimization over sequentially prepared unitaries\n",
    "</h3>"
   ]
  },
  {
   "cell_type": "code",
   "execution_count": 9,
   "metadata": {},
   "outputs": [
    {
     "name": "stderr",
     "output_type": "stream",
     "text": [
      "100%|██████████| 2/2 [00:00<00:00,  5.22it/s]\n"
     ]
    },
    {
     "name": "stdout",
     "output_type": "stream",
     "text": [
      "overlap to target mps from constructed circuit = 0.8442918481555088\n",
      "overlap from static seq. preparation = 0.84429185, n_gates=162, n_2qg=50\n",
      "\n",
      "now doing variational optimization over gates\n"
     ]
    },
    {
     "name": "stderr",
     "output_type": "stream",
     "text": [
      "/home/mohsin/programs/miniconda3/envs/spy/lib/python3.10/site-packages/quimb/tensor/circuit.py:1203: FutureWarning: In future the tensor network returned by ``circ.uni`` will not be transposed as it is currently, to match the expectation from ``U = circ.uni.to_dense()`` behaving like ``U @ psi``. You can retain this behaviour with ``circ.get_uni(transposed=True)``.\n",
      "  warnings.warn(\n",
      "2023-08-29 17:48:40.414769: E tensorflow/compiler/xla/stream_executor/cuda/cuda_driver.cc:267] failed call to cuInit: CUDA_ERROR_UNKNOWN: unknown error\n",
      "2023-08-29 17:48:40.414859: I tensorflow/compiler/xla/stream_executor/cuda/cuda_diagnostics.cc:169] retrieving CUDA diagnostic information for host: p52s\n",
      "2023-08-29 17:48:40.414870: I tensorflow/compiler/xla/stream_executor/cuda/cuda_diagnostics.cc:176] hostname: p52s\n",
      "2023-08-29 17:48:40.417700: I tensorflow/compiler/xla/stream_executor/cuda/cuda_diagnostics.cc:200] libcuda reported version is: 535.86.5\n",
      "2023-08-29 17:48:40.417766: I tensorflow/compiler/xla/stream_executor/cuda/cuda_diagnostics.cc:204] kernel reported version is: 535.86.5\n",
      "2023-08-29 17:48:40.417776: I tensorflow/compiler/xla/stream_executor/cuda/cuda_diagnostics.cc:310] kernel version seems to match DSO: 535.86.5\n",
      "2023-08-29 17:48:40.421928: I tensorflow/core/platform/cpu_feature_guard.cc:193] This TensorFlow binary is optimized with oneAPI Deep Neural Network Library (oneDNN) to use the following CPU instructions in performance-critical operations:  AVX2 FMA\n",
      "To enable them in other operations, rebuild TensorFlow with the appropriate compiler flags.\n",
      "  0%|          | 0/160 [00:09<?, ?it/s]\n"
     ]
    },
    {
     "name": "stdout",
     "output_type": "stream",
     "text": [
      "\n",
      "overlap to target mps from constructed circuit =  0.8442918149117014\n",
      "overllap after variational optimization = -inf,  n_gates=162, n_2qg=50\n"
     ]
    }
   ],
   "source": [
    "prep = MPSPreparation(target_mps)\n",
    "number_of_layers = 2\n",
    "n_iter, nhop = 40, 4\n",
    "prep.variational_seq_preparation(number_of_layers, do_compression=False, n_iter=n_iter, nhop=nhop, verbose=False)"
   ]
  },
  {
   "cell_type": "markdown",
   "metadata": {},
   "source": [
    "<h3 align=\"left\">\n",
    "\t3. Quantum Circuit Tensor Network Ansatz\n",
    "</h3>"
   ]
  },
  {
   "cell_type": "code",
   "execution_count": 28,
   "metadata": {},
   "outputs": [
    {
     "name": "stdout",
     "output_type": "stream",
     "text": [
      "number of gates in the circuit (from QCTN) are 196\n"
     ]
    },
    {
     "name": "stderr",
     "output_type": "stream",
     "text": [
      "2023-08-28 23:30:58.312518: W tensorflow/core/common_runtime/gpu/gpu_device.cc:1934] Cannot dlopen some GPU libraries. Please make sure the missing libraries mentioned above are installed properly if you would like to use GPU. Follow the guide at https://www.tensorflow.org/install/gpu for how to download and setup the required libraries for your platform.\n",
      "Skipping registering GPU devices...\n"
     ]
    },
    {
     "name": "stdout",
     "output_type": "stream",
     "text": [
      "overlap before optimization = -0.0062975846\n",
      "\n"
     ]
    },
    {
     "name": "stderr",
     "output_type": "stream",
     "text": [
      "-0.990385949612 [best: -0.990385949612] : : 219it [09:09,  2.51s/it]                       \n"
     ]
    },
    {
     "name": "stdout",
     "output_type": "stream",
     "text": [
      "\n",
      "overlap to target mps from constructed circuit =  0.9903873693512378\n",
      "overllap after qctn optimization = 0.99038595,  n_gates=196, n_2qg=88\n"
     ]
    }
   ],
   "source": [
    "prep = MPSPreparation(target_mps)\n",
    "depth = 8\n",
    "n_iter, nhop = 40, 4,\n",
    "prep.qctn_preparation(depth, n_iter=n_iter, nhop=nhop)"
   ]
  },
  {
   "cell_type": "markdown",
   "metadata": {},
   "source": [
    "<h3 align=\"left\">\n",
    "\t4. Preparation using Linear Combinition of unitaries (LCU)\n",
    "</h3>\n",
    "\n",
    "\\begin{aligned}\n",
    "\t|\\psi[A] \\rangle = \\left( U_0 + \\kappa_1U_1 + \\kappa_2U_2 + \\dots\\right)|00\\dots0\\rangle,\n",
    "\\end{aligned}\n",
    "\n",
    "see [[1]] for details\n",
    "\n",
    "[1]: https://arxiv.org/pdf/2209.07106.pdf\n"
   ]
  },
  {
   "cell_type": "code",
   "execution_count": 29,
   "metadata": {},
   "outputs": [
    {
     "name": "stderr",
     "output_type": "stream",
     "text": [
      "100%|██████████| 4/4 [00:00<00:00,  5.86it/s]\n"
     ]
    },
    {
     "name": "stdout",
     "output_type": "stream",
     "text": [
      "[0.7334948594809657, (0.8775092331592993+0j)]\n",
      "overllap after lcu. preparation = 0.87750923,  n_gates=3045, n_2qg=1266\n"
     ]
    }
   ],
   "source": [
    "prep = MPSPreparation(target_mps)\n",
    "number_of_lcu_layers = 4\n",
    "prep.lcu_preparation(number_of_lcu_layers, verbose=False)"
   ]
  },
  {
   "cell_type": "markdown",
   "metadata": {},
   "source": [
    "<h3 align=\"left\">\n",
    "\t5. Variational optimization over LCU construction\n",
    "</h3>"
   ]
  },
  {
   "cell_type": "code",
   "execution_count": 35,
   "metadata": {},
   "outputs": [
    {
     "name": "stdout",
     "output_type": "stream",
     "text": [
      "Optimizing...\n",
      "Iteration    Cost                       Gradient norm     \n",
      "---------    -----------------------    --------------    \n",
      "   1         -8.7750923315929907e-01    9.14495638e-02    \n",
      "   2         -8.9352401031818407e-01    4.54202901e-02    \n",
      "   3         -9.0148262335783946e-01    2.97225155e-02    \n",
      "   4         -9.0711207862857834e-01    3.08001618e-02    \n",
      "   5         -9.1052130792099861e-01    1.97377157e-02    \n",
      "   6         -9.1224506959646257e-01    1.68739312e-02    \n",
      "Terminated - max time reached after 6 iterations.\n",
      "\n",
      "overllap after lcu optimization (manopt) = 0.91224507\n",
      "\n"
     ]
    }
   ],
   "source": [
    "prep = MPSPreparation(target_mps)\n",
    "number_of_lcu_layers = 4\n",
    "prep.variational_lcu_preparation(number_of_lcu_layers, verbose=True)"
   ]
  },
  {
   "cell_type": "markdown",
   "metadata": {},
   "source": [
    "<h3 align=\"left\">\n",
    "\t6. Adiabatic state Preparation of MPS\n",
    "</h3>"
   ]
  },
  {
   "cell_type": "code",
   "execution_count": 36,
   "metadata": {},
   "outputs": [
    {
     "name": "stdout",
     "output_type": "stream",
     "text": [
      "adiabatic state preparation of mps:\n",
      "runtime=6, tau=0.04, steps=150, max_bond=2\n",
      "\n"
     ]
    },
    {
     "name": "stderr",
     "output_type": "stream",
     "text": [
      "  0%|          | 0/151 [00:00<?, ?it/s]/home/mohsin/programs/miniconda3/envs/spy/lib/python3.10/site-packages/quimb/utils.py:167: Warning: The tensor_core.get_symbol function is deprecated in favor of contraction.get_symbol\n",
      "  warnings.warn(f\"The {old_name} function is deprecated in favor \"\n",
      "100%|██████████| 151/151 [00:54<00:00,  2.77it/s]"
     ]
    },
    {
     "name": "stdout",
     "output_type": "stream",
     "text": [
      "final overlap @ s=1.00000 is e=0.00322278, curr_f=0.99799178, and target_fid=0.99799178\n",
      "\n"
     ]
    },
    {
     "name": "stderr",
     "output_type": "stream",
     "text": [
      "\n"
     ]
    },
    {
     "data": {
      "text/plain": [
       "[<matplotlib.lines.Line2D at 0x7fd04c2f0130>]"
      ]
     },
     "execution_count": 36,
     "metadata": {},
     "output_type": "execute_result"
    },
    {
     "data": {
      "image/png": "[encoded data removed]",
      "text/plain": [
       "<Figure size 640x480 with 1 Axes>"
      ]
     },
     "metadata": {},
     "output_type": "display_data"
    }
   ],
   "source": [
    "L = 8\n",
    "tensor_array, _ = make_aklt_mps(L)\n",
    "target_mps = qtn.MatrixProductState(tensor_array, shape='lrp')\n",
    "prep = MPSPreparation(target_mps)\n",
    "\n",
    "Tmax, tau = 6, 0.04 #total runtime, trotter step size\n",
    "max_bond = 2\n",
    "prep.adiabatic_state_preparation(Tmax, tau, max_bond, verbose=False)\n",
    "\n",
    "plt.plot(mps_p.adiabatic_data['target_fidelity'].keys(), mps_p.adiabatic_data['target_fidelity'].values(), '.-')"
   ]
  },
  {
   "cell_type": "markdown",
   "metadata": {},
   "source": [
    "<h2 align=\"center\">\n",
    "\tProjected Entangled Pair States (PEPS) in 2d\n",
    "</h2>\n",
    "<h3 align=\"left\">\n",
    "\t1. Adiabatic state Preparation\n",
    "</h3>"
   ]
  },
  {
   "cell_type": "code",
   "execution_count": 4,
   "metadata": {},
   "outputs": [
    {
     "name": "stderr",
     "output_type": "stream",
     "text": [
      "100%|██████████| 251/251 [1:38:12<00:00, 23.48s/it]"
     ]
    },
    {
     "name": "stdout",
     "output_type": "stream",
     "text": [
      "\n",
      "2d adiabatic preparation: @ s=1.00000, e=0.00506879 and f=0.99098100\n",
      "\n"
     ]
    },
    {
     "name": "stderr",
     "output_type": "stream",
     "text": [
      "\n"
     ]
    },
    {
     "data": {
      "text/plain": [
       "[<matplotlib.lines.Line2D at 0x7f1a9d6c9c00>]"
      ]
     },
     "execution_count": 4,
     "metadata": {},
     "output_type": "execute_result"
    },
    {
     "data": {
      "image/png": "[encoded data removed]",
      "text/plain": [
       "<Figure size 640x480 with 1 Axes>"
      ]
     },
     "metadata": {},
     "output_type": "display_data"
    }
   ],
   "source": [
    "Lx, Ly = 10, 4\n",
    "target_grid, _ = make_aklt_peps(Lx, Ly)\n",
    "prep = PEPSPreparation(target_grid)\n",
    "\n",
    "Tmax, tau = 10, 0.04\n",
    "max_bond = 2\n",
    "prep.adiabatic_state_preparation(Tmax, tau, max_bond, verbose=False)\n",
    "\n",
    "plt.plot(prep.adiabatic_data['target_fidelity'].keys(), prep.adiabatic_data['target_fidelity'].values(), '.-')\n"
   ]
  },
  {
   "cell_type": "code",
   "execution_count": null,
   "metadata": {},
   "outputs": [],
   "source": []
  }
 ],
 "metadata": {
  "kernelspec": {
   "display_name": "spy",
   "language": "python",
   "name": "python3"
  },
  "language_info": {
   "codemirror_mode": {
    "name": "ipython",
    "version": 3
   },
   "file_extension": ".py",
   "mimetype": "text/x-python",
   "name": "python",
   "nbconvert_exporter": "python",
   "pygments_lexer": "ipython3",
   "version": "3.10.9"
  },
  "orig_nbformat": 4
 },
 "nbformat": 4,
 "nbformat_minor": 2
}
