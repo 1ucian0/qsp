{
 "cells": [
  {
   "cell_type": "markdown",
   "metadata": {},
   "source": [
    "<h2 align=\"center\">\n",
    "\tUnitary Preparation of Tensor Network States\n",
    "</h2>"
   ]
  },
  {
   "cell_type": "code",
   "execution_count": 1,
   "metadata": {},
   "outputs": [],
   "source": [
    "from matplotlib import pyplot as plt\n",
    "import numpy as np\n",
    "import pickle as pkl\n",
    "\n",
    "import quimb.tensor as qtn\n",
    "\n",
    "from qsp.misc_states import make_aklt_mps\n",
    "from qsp.misc_states import make_aklt_peps\n",
    "from qsp.tsp import MPSPreparation, PEPSPreparation\n",
    "from qsp.tsp_helper_routines import make_splitted_mps"
   ]
  },
  {
   "cell_type": "markdown",
   "metadata": {},
   "source": [
    "Given the requirements load/construct MPS of cetain length."
   ]
  },
  {
   "cell_type": "code",
   "execution_count": 2,
   "metadata": {},
   "outputs": [],
   "source": [
    "def get_target_mps(mps_type):\n",
    "    if mps_type == \"aklt\":\n",
    "        tensor_array, _ = make_aklt_mps(L=12)\n",
    "        tensor_array = make_splitted_mps(tensor_array)\n",
    "        target_mps = qtn.MatrixProductState(tensor_array, shape=\"lrp\")\n",
    "\n",
    "    if mps_type == \"random\":\n",
    "        target_mps = qtn.MPS_rand_state(L=12, bond_dim=4)\n",
    "        target_mps.permute_arrays(shape=\"lrp\")\n",
    "\n",
    "    if mps_type in [\"P4\", \"N2\", \"heisenberg\"]:\n",
    "        filenames = {\n",
    "            \"P4\": \"data/P4_6-31G_dist2.0000.pkl\",\n",
    "            \"N2\": \"data/N2_STO-6G_dist2.0000.pkl\",\n",
    "            \"heisenberg\": \"data/heisenberg_L32_dist0.8000.pkl\",\n",
    "        }\n",
    "        with open(filenames[mps_type], \"rb\") as f:\n",
    "            data = pkl.load(f)\n",
    "        target_mps = data[\"quimb_mps\"]\n",
    "\n",
    "    return target_mps"
   ]
  },
  {
   "cell_type": "markdown",
   "metadata": {},
   "source": [
    "<h2 align=\"center\">\n",
    "\tMatrix Product States\n",
    "</h2>\n",
    "<h3 align=\"left\">\n",
    "\t1. Sequential preparation\n",
    "</h3>\n",
    "\n",
    "\n",
    "$$\n",
    "| \\psi[A] \\rangle \\approx  (U_0. U_1. … U_D) |00...0\\rangle\n",
    "$$\n",
    "\n",
    "\n",
    "where $D$ is the number of layers of unitaries $U_i$ (see [[1]], [[2]]).\n",
    " \n",
    "\n",
    "[1]: https://arxiv.org/pdf/2209.07106.pdf\n",
    "[2]: https://journals.aps.org/pra/abstract/10.1103/PhysRevA.101.032310"
   ]
  },
  {
   "cell_type": "code",
   "execution_count": 3,
   "metadata": {},
   "outputs": [
    {
     "name": "stdout",
     "output_type": "stream",
     "text": [
      "preparing mps using sequential unitaries (num_seq_layers=6)...\n"
     ]
    },
    {
     "name": "stderr",
     "output_type": "stream",
     "text": [
      "100%|██████████| 6/6 [00:07<00:00,  1.24s/it]\n"
     ]
    },
    {
     "name": "stdout",
     "output_type": "stream",
     "text": [
      "overlap from static seq. preparation = 0.75401846,\n",
      "n_gates=1140, n_2qg=372\n",
      "\n"
     ]
    }
   ],
   "source": [
    "target_mps = get_target_mps(mps_type='aklt')\n",
    "prep = MPSPreparation(target_mps)\n",
    "num_seq_layers = 6\n",
    "overlap, circ = prep.sequential_unitary_circuit(num_seq_layers)"
   ]
  },
  {
   "cell_type": "code",
   "execution_count": 4,
   "metadata": {},
   "outputs": [
    {
     "data": {
      "text/plain": [
       "(1140, 372)"
      ]
     },
     "execution_count": 4,
     "metadata": {},
     "output_type": "execute_result"
    }
   ],
   "source": [
    "circ.size(), circ.num_nonlocal_gates()"
   ]
  },
  {
   "cell_type": "markdown",
   "metadata": {},
   "source": [
    "<h3 align=\"left\">\n",
    "\t2. Variational optimization over sequentially prepared unitaries\n",
    "</h3>"
   ]
  },
  {
   "cell_type": "code",
   "execution_count": 5,
   "metadata": {},
   "outputs": [
    {
     "name": "stdout",
     "output_type": "stream",
     "text": [
      "doing variational optimization over sequential unitaries (num_var_seq_layers=2)...\n"
     ]
    },
    {
     "name": "stderr",
     "output_type": "stream",
     "text": [
      "100%|██████████| 2/2 [00:00<00:00,  3.56it/s]\n"
     ]
    },
    {
     "name": "stdout",
     "output_type": "stream",
     "text": [
      "number of variational params in the circuit (from sequential algorithm) are 939\n",
      "overlap before variational optimization = -0.6592715979\n"
     ]
    },
    {
     "name": "stderr",
     "output_type": "stream",
     "text": [
      "-0.050707425922 [best: -0.842293798923] : : 18it [01:27,  4.87s/it]                    \n"
     ]
    },
    {
     "name": "stdout",
     "output_type": "stream",
     "text": [
      "overllap after variational optimization = 0.84229380,\n",
      "n_gates=354, n_2qg=110\n",
      "\n"
     ]
    }
   ],
   "source": [
    "target_mps = get_target_mps(mps_type='aklt')\n",
    "prep = MPSPreparation(target_mps)\n",
    "num_var_seq_layers = 2\n",
    "overlap, circ = prep.sequential_unitary_circuit_optimization(num_var_seq_layers, max_iterations=4)"
   ]
  },
  {
   "cell_type": "markdown",
   "metadata": {},
   "source": [
    "<h3 align=\"left\">\n",
    "\t3. Quantum Circuit Tensor Network Ansatz\n",
    "</h3>"
   ]
  },
  {
   "cell_type": "code",
   "execution_count": 6,
   "metadata": {},
   "outputs": [
    {
     "name": "stdout",
     "output_type": "stream",
     "text": [
      "preparing mps using quantum circuit tensor network ansatz (qctn_depth=8)...\n",
      "number of variational params in the circuit (from QCTN) are 1200\n",
      "overlap before variational optimization = -0.0002803624\n"
     ]
    },
    {
     "name": "stderr",
     "output_type": "stream",
     "text": [
      "-0.019028346986 [best: -0.019028346986] : : 18it [01:22,  4.57s/it]                    \n"
     ]
    },
    {
     "name": "stdout",
     "output_type": "stream",
     "text": [
      "overllap after qctn optimization =0.01902835,\n",
      "n_gates=400, n_2qg=184\n",
      "\n"
     ]
    }
   ],
   "source": [
    "target_mps = get_target_mps(mps_type='aklt')\n",
    "prep = MPSPreparation(target_mps)\n",
    "qctn_depth = 8\n",
    "overlap, circ = prep.quantum_circuit_tensor_network_ansatz(qctn_depth, max_iterations=4)"
   ]
  },
  {
   "cell_type": "markdown",
   "metadata": {},
   "source": [
    "<h3 align=\"left\">\n",
    "\t4. Preparation using Linear Combinition of unitaries (LCU)\n",
    "</h3>\n",
    "\n",
    "\\begin{aligned}\n",
    "\t|\\psi[A] \\rangle = \\left( U_0 + \\kappa_1U_1 + \\kappa_2U_2 + \\dots\\right)|00\\dots0\\rangle,\n",
    "\\end{aligned}\n",
    "\n",
    "see [[1]] for details\n",
    "\n",
    "[1]: https://arxiv.org/pdf/2209.07106.pdf\n"
   ]
  },
  {
   "cell_type": "code",
   "execution_count": 7,
   "metadata": {},
   "outputs": [
    {
     "name": "stdout",
     "output_type": "stream",
     "text": [
      "preparing mps as linear combination of unitaries (num_lcu_layers=4)...\n"
     ]
    },
    {
     "name": "stderr",
     "output_type": "stream",
     "text": [
      "100%|██████████| 4/4 [00:04<00:00,  1.08s/it]\n"
     ]
    },
    {
     "name": "stdout",
     "output_type": "stream",
     "text": [
      "overllap after lcu. preparation = 0.84256240,  n_gates=2980, n_2qg=1232\n",
      "\n"
     ]
    }
   ],
   "source": [
    "target_mps = get_target_mps(mps_type='N2')\n",
    "prep = MPSPreparation(target_mps)\n",
    "num_lcu_layers = 4\n",
    "overlap, circ = prep.lcu_unitary_circuit(num_lcu_layers)"
   ]
  },
  {
   "cell_type": "markdown",
   "metadata": {},
   "source": [
    "<h3 align=\"left\">\n",
    "\t5. Variational optimization over LCU construction\n",
    "</h3>"
   ]
  },
  {
   "cell_type": "code",
   "execution_count": 8,
   "metadata": {},
   "outputs": [
    {
     "name": "stdout",
     "output_type": "stream",
     "text": [
      "doing variational optimization over linear combination of unitaries (num_var_lcu_layers=4)...\n"
     ]
    },
    {
     "name": "stderr",
     "output_type": "stream",
     "text": [
      "  0%|          | 0/4 [00:00<?, ?it/s]"
     ]
    },
    {
     "name": "stderr",
     "output_type": "stream",
     "text": [
      "100%|██████████| 4/4 [00:04<00:00,  1.14s/it]\n"
     ]
    },
    {
     "name": "stdout",
     "output_type": "stream",
     "text": [
      "overlap before lcu optimization = 0.8425623986 , n_gates=2982, n_2qg=1232\n"
     ]
    },
    {
     "name": "stderr",
     "output_type": "stream",
     "text": [
      "100%|██████████| 4/4 [00:50<00:00, 12.75s/it]"
     ]
    },
    {
     "name": "stdout",
     "output_type": "stream",
     "text": [
      "final overlap (after 4 iters):  -0.84247470570648808\n"
     ]
    },
    {
     "name": "stderr",
     "output_type": "stream",
     "text": [
      "\n"
     ]
    },
    {
     "name": "stdout",
     "output_type": "stream",
     "text": [
      "overllap after lcu optimization (qgopt) = 0.84238052\n",
      "\n"
     ]
    }
   ],
   "source": [
    "target_mps = get_target_mps(mps_type='N2')\n",
    "num_var_lcu_layers = 4\n",
    "overlap, circ = prep.lcu_unitary_circuit_optimization(num_var_lcu_layers, max_iterations=4)"
   ]
  },
  {
   "cell_type": "markdown",
   "metadata": {},
   "source": [
    "<h3 align=\"left\">\n",
    "\t6. Adiabatic state Preparation of MPS\n",
    "</h3>"
   ]
  },
  {
   "cell_type": "code",
   "execution_count": 9,
   "metadata": {},
   "outputs": [
    {
     "name": "stdout",
     "output_type": "stream",
     "text": [
      "adiabatic state preparation of mps:\n",
      "runtime=8, tau=0.04, steps=200, max_bond_dim=2\n",
      "given mps is not injective. blocking it now ...\n"
     ]
    },
    {
     "name": "stderr",
     "output_type": "stream",
     "text": [
      "100%|██████████| 201/201 [00:21<00:00,  9.17it/s]\n"
     ]
    },
    {
     "name": "stdout",
     "output_type": "stream",
     "text": [
      "final overlap @ s=1.00000 is e=0.00000000, curr_f=0.99796394, target_fidelity=0.99796394\n",
      "approximate n_gates=213060, and n_2qg=80400\n",
      "\n"
     ]
    }
   ],
   "source": [
    "target_mps = qtn.MPS_rand_state(L=6, bond_dim=2)\n",
    "prep = MPSPreparation(target_mps)\n",
    "runtime, tau = 8, 0.04  # total runtime, trotter step size\n",
    "max_bond = 2\n",
    "target_fidelity, n_2qg = prep.adiabatic_state_preparation(runtime, tau, max_bond, verbose=False)"
   ]
  },
  {
   "cell_type": "code",
   "execution_count": 12,
   "metadata": {},
   "outputs": [
    {
     "data": {
      "text/plain": [
       "Text(0, 0.5, 'current fidelity')"
      ]
     },
     "execution_count": 12,
     "metadata": {},
     "output_type": "execute_result"
    },
    {
     "data": {
      "image/png": "[encoded data removed]",
      "text/plain": [
       "<Figure size 640x480 with 1 Axes>"
      ]
     },
     "metadata": {},
     "output_type": "display_data"
    }
   ],
   "source": [
    "plt.plot(prep.adiabatic_data[\"target_fidelity\"].keys(), prep.adiabatic_data[\"target_fidelity\"].values(), \".-\")\n",
    "plt.title(\"1d aklt\")\n",
    "plt.xlabel(\"time\")\n",
    "plt.ylabel(\"current fidelity\")"
   ]
  },
  {
   "cell_type": "code",
   "execution_count": 13,
   "metadata": {},
   "outputs": [
    {
     "name": "stdout",
     "output_type": "stream",
     "text": [
      "adiabatic state preparation of mps:\n",
      "runtime=8, tau=0.04, steps=200, max_bond_dim=2\n"
     ]
    },
    {
     "name": "stderr",
     "output_type": "stream",
     "text": [
      "  0%|          | 0/201 [00:00<?, ?it/s]"
     ]
    },
    {
     "name": "stderr",
     "output_type": "stream",
     "text": [
      "100%|██████████| 201/201 [00:40<00:00,  4.93it/s]\n"
     ]
    },
    {
     "name": "stdout",
     "output_type": "stream",
     "text": [
      "final overlap @ s=1.00000 is e=0.00000000, curr_f=0.99658790, target_fidelity=0.99658790\n",
      "approximate n_gates=532650, and n_2qg=201000\n",
      "\n"
     ]
    }
   ],
   "source": [
    "tensor_array, _ = make_aklt_mps(L=6)\n",
    "prep = MPSPreparation(tensor_array, shape=\"lrp\")\n",
    "Tmax, tau = 8, 0.04  # total runtime, trotter step size\n",
    "max_bond = 2\n",
    "target_fidelity, n_2qg = prep.adiabatic_state_preparation(Tmax, tau, max_bond, verbose=False)"
   ]
  },
  {
   "cell_type": "markdown",
   "metadata": {},
   "source": [
    "<h2 align=\"center\">\n",
    "\tProjected Entangled Pair States (PEPS) in 2d\n",
    "</h2>\n",
    "<h3 align=\"left\">\n",
    "\t1. Adiabatic state Preparation\n",
    "</h3>"
   ]
  },
  {
   "cell_type": "code",
   "execution_count": 10,
   "metadata": {},
   "outputs": [
    {
     "name": "stdout",
     "output_type": "stream",
     "text": [
      "adiabatic state preparation of peps:\n",
      "runtime=10, tau=0.04, steps=250, max_bond=2\n"
     ]
    },
    {
     "name": "stderr",
     "output_type": "stream",
     "text": [
      "100%|██████████| 251/251 [1:36:16<00:00, 23.01s/it]"
     ]
    },
    {
     "name": "stdout",
     "output_type": "stream",
     "text": [
      "\n",
      "2d adiabatic preparation: @ s=1.00000, e=0.00505010, fidelity=0.99099760\n"
     ]
    },
    {
     "name": "stderr",
     "output_type": "stream",
     "text": [
      "\n"
     ]
    }
   ],
   "source": [
    "Lx, Ly = 10, 4\n",
    "target_grid, _ = make_aklt_peps(Lx, Ly)\n",
    "prep = PEPSPreparation(target_grid)\n",
    "\n",
    "Tmax, tau = 10, 0.04\n",
    "max_bond = 2\n",
    "prep.adiabatic_state_preparation(Tmax, tau, max_bond, verbose=False)"
   ]
  },
  {
   "cell_type": "code",
   "execution_count": 11,
   "metadata": {},
   "outputs": [
    {
     "data": {
      "text/plain": [
       "Text(0, 0.5, 'current fidelity')"
      ]
     },
     "execution_count": 11,
     "metadata": {},
     "output_type": "execute_result"
    },
    {
     "data": {
      "image/png": "[encoded data removed]",
      "text/plain": [
       "<Figure size 640x480 with 1 Axes>"
      ]
     },
     "metadata": {},
     "output_type": "display_data"
    }
   ],
   "source": [
    "plt.plot(\n",
    "    prep.adiabatic_data[\"target_fidelity\"].keys(),\n",
    "    prep.adiabatic_data[\"target_fidelity\"].values(),\n",
    "    \".-\",\n",
    ")\n",
    "plt.title(\"2d aklt\")\n",
    "plt.xlabel(\"time\")\n",
    "plt.ylabel(\"current fidelity\")"
   ]
  }
 ],
 "metadata": {
  "kernelspec": {
   "display_name": "spy",
   "language": "python",
   "name": "python3"
  },
  "language_info": {
   "codemirror_mode": {
    "name": "ipython",
    "version": 3
   },
   "file_extension": ".py",
   "mimetype": "text/x-python",
   "name": "python",
   "nbconvert_exporter": "python",
   "pygments_lexer": "ipython3",
   "version": "3.10.12"
  },
  "orig_nbformat": 4
 },
 "nbformat": 4,
 "nbformat_minor": 2
}
